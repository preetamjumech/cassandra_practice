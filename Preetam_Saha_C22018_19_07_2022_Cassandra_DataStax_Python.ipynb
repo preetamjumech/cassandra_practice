{
  "nbformat": 4,
  "nbformat_minor": 0,
  "metadata": {
    "colab": {
      "name": "Preetam_Saha_C22018_19.07.2022_Cassandra @ DataStax - Python",
      "provenance": [],
      "collapsed_sections": [],
      "include_colab_link": true
    },
    "kernelspec": {
      "name": "python3",
      "display_name": "Python 3"
    },
    "language_info": {
      "name": "python"
    }
  },
  "cells": [
    {
      "cell_type": "markdown",
      "metadata": {
        "id": "view-in-github",
        "colab_type": "text"
      },
      "source": [
        "<a href=\"https://colab.research.google.com/github/preetamjumech/cassandra_practice/blob/main/Preetam_Saha_C22018_19_07_2022_Cassandra_DataStax_Python.ipynb\" target=\"_parent\"><img src=\"https://colab.research.google.com/assets/colab-badge.svg\" alt=\"Open In Colab\"/></a>"
      ]
    },
    {
      "cell_type": "markdown",
      "source": [
        "#Get Astra DataStax credentials\n",
        "from G-Drive <br>\n",
        "https://www.datastax.com/ <br>\n",
        "login with Google ID registrations"
      ],
      "metadata": {
        "id": "KRRsvGaj2uro"
      }
    },
    {
      "cell_type": "code",
      "source": [
        "#Collect Credentials from GDrive\n",
        "#this cell required to hide mongoURI from notebook in public github directory\n",
        "from google.colab import drive\n",
        "drive.mount('/content/drive')\n",
        "# copy credentials file\n",
        "#!ls /content/drive/'My Drive'/Praxis/WebCredentials\n",
        "!cp /content/drive/'My Drive'/secure-connect-praxisdb.zip\n",
        "#!cp /content/drive/'My Drive'/Praxis/WebCredentials/ASTRA_DataStaxCredentials_Jun22.py credentials.py\n",
        "# import \n",
        "#from credentials import ClientId, ClientSecret\n",
        "ClientId = \"RYMFWqIoFFGcmMwDGgIigOTM\"\n",
        "ClientSecret = \"zxkl5jta9qU3XFdAIhpfNxez4XGQILJj2bU2hSx-pHsUiNcsbsPuz-MWXoxr+ciQQ3YQ4+h1a3yOYgE9rJ.bDD7WwDDaScEw-4j4mq.0-dkR.sW_0TBzXL,UqCZxcT6X\"\n"
      ],
      "metadata": {
        "colab": {
          "base_uri": "https://localhost:8080/"
        },
        "id": "UAztV9EF22L3",
        "outputId": "a0088cb5-9b38-4a69-f7e8-4bf7b23c0a86"
      },
      "execution_count": 26,
      "outputs": [
        {
          "output_type": "stream",
          "name": "stdout",
          "text": [
            "Drive already mounted at /content/drive; to attempt to forcibly remount, call drive.mount(\"/content/drive\", force_remount=True).\n",
            "cp: missing destination file operand after '/content/drive/My Drive/secure-connect-praxisdb.zip'\n",
            "Try 'cp --help' for more information.\n"
          ]
        }
      ]
    },
    {
      "cell_type": "markdown",
      "source": [
        "#Install Cassandra Drivers"
      ],
      "metadata": {
        "id": "Rw_nSwYi41gC"
      }
    },
    {
      "cell_type": "code",
      "source": [
        "!pip install cassandra-driver"
      ],
      "metadata": {
        "colab": {
          "base_uri": "https://localhost:8080/"
        },
        "id": "YmgeEPAe45VR",
        "outputId": "e2e9f05f-3663-44e8-f6d8-9cf83fbc7605"
      },
      "execution_count": 18,
      "outputs": [
        {
          "output_type": "stream",
          "name": "stdout",
          "text": [
            "Looking in indexes: https://pypi.org/simple, https://us-python.pkg.dev/colab-wheels/public/simple/\n",
            "Requirement already satisfied: cassandra-driver in /usr/local/lib/python3.7/dist-packages (3.25.0)\n",
            "Requirement already satisfied: six>=1.9 in /usr/local/lib/python3.7/dist-packages (from cassandra-driver) (1.15.0)\n",
            "Requirement already satisfied: geomet<0.3,>=0.1 in /usr/local/lib/python3.7/dist-packages (from cassandra-driver) (0.2.1.post1)\n",
            "Requirement already satisfied: click in /usr/local/lib/python3.7/dist-packages (from geomet<0.3,>=0.1->cassandra-driver) (7.1.2)\n"
          ]
        }
      ]
    },
    {
      "cell_type": "code",
      "source": [
        "import cassandra \n",
        "print (cassandra.__version__)"
      ],
      "metadata": {
        "colab": {
          "base_uri": "https://localhost:8080/"
        },
        "id": "5a6PXN6h5BY-",
        "outputId": "c69198c2-55cf-402d-cb32-506d2ece3fdc"
      },
      "execution_count": 19,
      "outputs": [
        {
          "output_type": "stream",
          "name": "stdout",
          "text": [
            "3.25.0\n"
          ]
        }
      ]
    },
    {
      "cell_type": "code",
      "source": [
        "from cassandra.cluster import Cluster #cassandra is on datstax data is on local vm, so we have to connect them\n",
        "from cassandra.auth import PlainTextAuthProvider\n",
        "\n",
        "cloud_config= {'secure_connect_bundle': '/content/secure-connect-praxisdb.zip'}\n",
        "auth_provider = PlainTextAuthProvider(ClientId, ClientSecret)\n",
        "cluster = Cluster(cloud=cloud_config, auth_provider=auth_provider)\n",
        "session = cluster.connect()\n",
        "\n",
        "row = session.execute(\"select release_version from system.local\").one()\n",
        "if row:\n",
        "    print(row[0])\n",
        "else:\n",
        "    print(\"An error occurred.\")"
      ],
      "metadata": {
        "colab": {
          "base_uri": "https://localhost:8080/"
        },
        "id": "34axjYII5Icg",
        "outputId": "1b7af746-9fcd-4650-c23b-38fa7fdb872d"
      },
      "execution_count": 27,
      "outputs": [
        {
          "output_type": "stream",
          "name": "stdout",
          "text": [
            "4.0.0.6816\n"
          ]
        }
      ]
    },
    {
      "cell_type": "markdown",
      "source": [
        "#Basic Data Access"
      ],
      "metadata": {
        "id": "TUDTlm8_6ajL"
      }
    },
    {
      "cell_type": "code",
      "source": [
        "rows = session.execute(\"SELECT * FROM system_schema.keyspaces ;\")\n",
        "for row in rows:\n",
        "    print(row.keyspace_name)"
      ],
      "metadata": {
        "colab": {
          "base_uri": "https://localhost:8080/"
        },
        "id": "zKtQkhAM7WRU",
        "outputId": "06fe9133-659e-4f7e-8145-7ab2f1d655d7"
      },
      "execution_count": 28,
      "outputs": [
        {
          "output_type": "stream",
          "name": "stdout",
          "text": [
            "system_auth\n",
            "system_schema\n",
            "praxis\n",
            "data_endpoint_auth\n",
            "system\n",
            "datastax_sla\n",
            "system_traces\n"
          ]
        }
      ]
    },
    {
      "cell_type": "code",
      "source": [
        "rows = session.execute(\"SELECT * FROM system_schema.tables WHERE keyspace_name = 'praxis';\")\n",
        "for row in rows:\n",
        "    print(row.table_name)"
      ],
      "metadata": {
        "id": "oFI7rTcD8hXX"
      },
      "execution_count": 29,
      "outputs": []
    },
    {
      "cell_type": "code",
      "source": [
        "session.execute('drop table if exists praxis.users;')"
      ],
      "metadata": {
        "colab": {
          "base_uri": "https://localhost:8080/"
        },
        "id": "6dwGDh0r88Ce",
        "outputId": "d341f59a-acf5-42f3-9ff8-a7bb1f3505a7"
      },
      "execution_count": 30,
      "outputs": [
        {
          "output_type": "execute_result",
          "data": {
            "text/plain": [
              "<cassandra.cluster.ResultSet at 0x7f54dfb3af90>"
            ]
          },
          "metadata": {},
          "execution_count": 30
        }
      ]
    },
    {
      "cell_type": "code",
      "source": [
        "session.execute('USE praxis')"
      ],
      "metadata": {
        "colab": {
          "base_uri": "https://localhost:8080/"
        },
        "id": "r1h6SPj26dOq",
        "outputId": "84a82074-d322-46d8-bf48-a0ac68398ca0"
      },
      "execution_count": 31,
      "outputs": [
        {
          "output_type": "execute_result",
          "data": {
            "text/plain": [
              "<cassandra.cluster.ResultSet at 0x7f54dfb35b90>"
            ]
          },
          "metadata": {},
          "execution_count": 31
        }
      ]
    },
    {
      "cell_type": "code",
      "source": [
        "session.execute(\"CREATE TABLE users (user_id int PRIMARY KEY, first_name text, last_name text );\")"
      ],
      "metadata": {
        "colab": {
          "base_uri": "https://localhost:8080/"
        },
        "id": "aPwcf79J6vL3",
        "outputId": "49694bb1-886e-4643-ef9a-a1adef138de5"
      },
      "execution_count": 32,
      "outputs": [
        {
          "output_type": "execute_result",
          "data": {
            "text/plain": [
              "<cassandra.cluster.ResultSet at 0x7f54dfba5ad0>"
            ]
          },
          "metadata": {},
          "execution_count": 32
        }
      ]
    },
    {
      "cell_type": "code",
      "source": [
        "session.execute(\"INSERT INTO users (user_id, first_name, last_name) VALUES (1, 'Prithwis', 'Mukerjee');\")\n",
        "session.execute(\"INSERT INTO users (user_id, first_name, last_name) VALUES (2, 'Sanniti', 'Chatterjee');\")\n",
        "session.execute(\"INSERT INTO users (user_id, first_name, last_name) VALUES (3, 'Amrita', 'Ghosh');\")"
      ],
      "metadata": {
        "colab": {
          "base_uri": "https://localhost:8080/"
        },
        "id": "ZBLpAKAk-Ctk",
        "outputId": "37bd5662-4312-4040-a21c-465b2d8b79e4"
      },
      "execution_count": 33,
      "outputs": [
        {
          "output_type": "execute_result",
          "data": {
            "text/plain": [
              "<cassandra.cluster.ResultSet at 0x7f54dfb73150>"
            ]
          },
          "metadata": {},
          "execution_count": 33
        }
      ]
    },
    {
      "cell_type": "code",
      "source": [
        "rows = session.execute('SELECT * FROM users')\n",
        "for row in rows:\n",
        "        print(row.user_id,row.first_name,row.last_name)"
      ],
      "metadata": {
        "colab": {
          "base_uri": "https://localhost:8080/"
        },
        "id": "y--TdJyE-M2h",
        "outputId": "18711cec-f5ac-4094-9ebf-bde80361a627"
      },
      "execution_count": 34,
      "outputs": [
        {
          "output_type": "stream",
          "name": "stdout",
          "text": [
            "1 Prithwis Mukerjee\n",
            "2 Sanniti Chatterjee\n",
            "3 Amrita Ghosh\n"
          ]
        }
      ]
    }
  ]
}